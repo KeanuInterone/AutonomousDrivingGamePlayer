{
  "nbformat": 4,
  "nbformat_minor": 0,
  "metadata": {
    "colab": {
      "provenance": [],
      "mount_file_id": "15Sp3EQ5a21NQtQ-QEZSyjRCyrv9inklI",
      "authorship_tag": "ABX9TyMWwJvBt5J8HxQJT1B6TZsU",
      "include_colab_link": true
    },
    "kernelspec": {
      "name": "python3",
      "display_name": "Python 3"
    },
    "language_info": {
      "name": "python"
    }
  },
  "cells": [
    {
      "cell_type": "markdown",
      "metadata": {
        "id": "view-in-github",
        "colab_type": "text"
      },
      "source": [
        "<a href=\"https://colab.research.google.com/github/KeanuInterone/AutonomousDrivingGamePlayer/blob/main/CheckpointToModel.ipynb\" target=\"_parent\"><img src=\"https://colab.research.google.com/assets/colab-badge.svg\" alt=\"Open In Colab\"/></a>"
      ]
    },
    {
      "cell_type": "code",
      "execution_count": 3,
      "metadata": {
        "id": "_CsUU5ZW3JCS"
      },
      "outputs": [],
      "source": [
        "import tensorflow as tf\n",
        "import tensorflow_hub as hub\n",
        "import os"
      ]
    },
    {
      "cell_type": "markdown",
      "source": [
        "# Config to run"
      ],
      "metadata": {
        "id": "rtITNbILdaoK"
      }
    },
    {
      "cell_type": "code",
      "source": [
        "model_dir = '/content/drive/MyDrive/Projects/AutonomousGamePlayer/Models'\n",
        "h5_file_path = '/content/drive/MyDrive/Projects/AutonomousGamePlayer/ModelCheckpoints/model_1/model_checkpoint.h5'\n",
        "model_name = 'model_1.0.0'"
      ],
      "metadata": {
        "id": "W4PdwfEqdd10"
      },
      "execution_count": 4,
      "outputs": []
    },
    {
      "cell_type": "code",
      "source": [
        "def load_model_from_h5(file_path):\n",
        "  \"\"\"\n",
        "  Load the model from a h5 file.\n",
        "  Args:\n",
        "    file_path: Path to the h5 file.\n",
        "  Returns:\n",
        "    The loaded model.\n",
        "  \"\"\"\n",
        "  model = tf.keras.models.load_model(\n",
        "      file_path,\n",
        "      custom_objects={\n",
        "          'KerasLayer': hub.KerasLayer\n",
        "      }\n",
        "  )\n",
        "  return model"
      ],
      "metadata": {
        "id": "ETmmpOjC3QtM"
      },
      "execution_count": 5,
      "outputs": []
    },
    {
      "cell_type": "code",
      "source": [
        "def save_model(model, filename):\n",
        "  \"\"\"\n",
        "  Save a model.\n",
        "  ARGS:\n",
        "    model (keras model): Keras model\n",
        "    filename (str): Filename\n",
        "  \"\"\"\n",
        "  tf.saved_model.save(model, filename)"
      ],
      "metadata": {
        "id": "h7vekJKH3kw7"
      },
      "execution_count": 6,
      "outputs": []
    },
    {
      "cell_type": "code",
      "source": [
        "def save_model_as_tflite(model_name, model_dir):\n",
        "  \"\"\"\n",
        "  Save the model as a tflite file.\n",
        "  Args:\n",
        "    model_name: Name of the model.\n",
        "    model_dir: Directory to save the model.\n",
        "  \"\"\"\n",
        "  save_model_path = os.path.join(model_dir, model_name)\n",
        "  converter = tf.lite.TFLiteConverter.from_saved_model(save_model_path)\n",
        "  converter.target_spec.supported_ops = [tf.lite.OpsSet.TFLITE_BUILTINS, tf.lite.OpsSet.SELECT_TF_OPS]\n",
        "  converter._experimental_lower_tensor_list_ops = False\n",
        "  tflite_model = converter.convert()\n",
        "  save_model_lite_path = os.path.join(model_dir, f'{model_name}.tflite')\n",
        "  with open(save_model_lite_path, \"wb\") as f:\n",
        "      f.write(tflite_model)"
      ],
      "metadata": {
        "id": "T6DT2Upa3XtT"
      },
      "execution_count": 7,
      "outputs": []
    },
    {
      "cell_type": "code",
      "source": [
        "model = load_model_from_h5(h5_file_path)\n",
        "save_model(model, os.path.join(model_dir, model_name))\n",
        "save_model_as_tflite(model_name, model_dir)"
      ],
      "metadata": {
        "id": "_H80SiGp3wDu"
      },
      "execution_count": 8,
      "outputs": []
    }
  ]
}